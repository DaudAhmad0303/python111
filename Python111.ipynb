{
 "cells": [
  {
   "cell_type": "markdown",
   "metadata": {},
   "source": [
    "# Day 1"
   ]
  },
  {
   "cell_type": "markdown",
   "metadata": {},
   "source": [
    "# Topics:\n",
    "###### 1:printing 2:Commenting 3:Debugging 4:String Manipulation 5:Variables:"
   ]
  },
  {
   "cell_type": "markdown",
   "metadata": {},
   "source": [
    "#### 1st (printing)"
   ]
  },
  {
   "cell_type": "code",
   "execution_count": null,
   "metadata": {},
   "outputs": [],
   "source": [
    "print(\"Hello World\")"
   ]
  },
  {
   "cell_type": "code",
   "execution_count": null,
   "metadata": {},
   "outputs": [],
   "source": [
    "print('Hello world')"
   ]
  },
  {
   "cell_type": "markdown",
   "metadata": {},
   "source": [
    "#### 2nd(Commenting)"
   ]
  },
  {
   "cell_type": "code",
   "execution_count": 1,
   "metadata": {},
   "outputs": [],
   "source": [
    "#print(\"Hello World\")\n",
    "#saad fareed "
   ]
  },
  {
   "cell_type": "markdown",
   "metadata": {},
   "source": [
    "### Task1 of the Day: print the folowing Lines:\n",
    "\n",
    "1:Teacher said,\"Hello Wold\"\n",
    "\n",
    "2:print('I am Sad now')"
   ]
  },
  {
   "cell_type": "markdown",
   "metadata": {},
   "source": [
    "### Solution:"
   ]
  },
  {
   "cell_type": "code",
   "execution_count": 6,
   "metadata": {},
   "outputs": [
    {
     "name": "stdout",
     "output_type": "stream",
     "text": [
      "Teacher said,\"Hello Wold\"\n"
     ]
    }
   ],
   "source": [
    "# Answer of 1st \n",
    "\n",
    "print('Teacher said,\"Hello Wold\"')"
   ]
  },
  {
   "cell_type": "code",
   "execution_count": null,
   "metadata": {},
   "outputs": [],
   "source": [
    "# Answer of 2nd \n",
    "print(\"print('I am Sad now')\")"
   ]
  },
  {
   "cell_type": "markdown",
   "metadata": {},
   "source": [
    "#### 4th Strings Manipulation"
   ]
  },
  {
   "cell_type": "code",
   "execution_count": 11,
   "metadata": {},
   "outputs": [
    {
     "name": "stdout",
     "output_type": "stream",
     "text": [
      "Hello World\n",
      " Saad\n",
      "saadfareed\n"
     ]
    }
   ],
   "source": [
    "print(\"saad\" + \"fareed\")"
   ]
  },
  {
   "cell_type": "code",
   "execution_count": null,
   "metadata": {},
   "outputs": [],
   "source": [
    "print(\"saad is my name\" +\" \"+\"i am a student of Computer Science \") # string Concatenation"
   ]
  },
  {
   "cell_type": "markdown",
   "metadata": {},
   "source": [
    "### Task2 of the Day: Debug the folowing Lines:\n",
    "prin('hello world')\n",
    "\n",
    "prnt(\"hello world')\n",
    "\n",
    "print(\"hello world''"
   ]
  },
  {
   "cell_type": "code",
   "execution_count": 15,
   "metadata": {},
   "outputs": [
    {
     "name": "stdout",
     "output_type": "stream",
     "text": [
      "hello world\n"
     ]
    }
   ],
   "source": [
    "print(\"hello world\")"
   ]
  },
  {
   "cell_type": "markdown",
   "metadata": {},
   "source": [
    "#### Input from User"
   ]
  },
  {
   "cell_type": "code",
   "execution_count": 17,
   "metadata": {},
   "outputs": [
    {
     "name": "stdout",
     "output_type": "stream",
     "text": [
      "Enter any stringsaad\n",
      "saad\n"
     ]
    }
   ],
   "source": [
    "print(input(\"Enter any string\"))"
   ]
  },
  {
   "cell_type": "code",
   "execution_count": null,
   "metadata": {},
   "outputs": [],
   "source": [
    "print(\"Hello \"+ input(\"What is Your Name:\"))"
   ]
  },
  {
   "cell_type": "markdown",
   "metadata": {},
   "source": [
    "#### only Integer Input"
   ]
  },
  {
   "cell_type": "code",
   "execution_count": 19,
   "metadata": {},
   "outputs": [
    {
     "name": "stdout",
     "output_type": "stream",
     "text": [
      "Enter any Integer10\n",
      "10\n"
     ]
    }
   ],
   "source": [
    "print(int(input(\"Enter any Integer\")))"
   ]
  },
  {
   "cell_type": "markdown",
   "metadata": {},
   "source": [
    "#### Basic Arthematic Operation"
   ]
  },
  {
   "cell_type": "code",
   "execution_count": 24,
   "metadata": {},
   "outputs": [
    {
     "name": "stdout",
     "output_type": "stream",
     "text": [
      "6\n"
     ]
    }
   ],
   "source": [
    "print(5+10) #Add\n",
    "print(5-10) #Sub\n",
    "print(5*10) #Mul\n",
    "print(5/10) #Div\n",
    "print(5%10) #Rem\n",
    "print(5**10) #pow "
   ]
  },
  {
   "cell_type": "markdown",
   "metadata": {},
   "source": [
    "### Task3 of the Day: Calculate Age of Person By taking YOB as input from user"
   ]
  },
  {
   "cell_type": "code",
   "execution_count": 25,
   "metadata": {},
   "outputs": [
    {
     "name": "stdout",
     "output_type": "stream",
     "text": [
      "Enter YOB:2000\n",
      "21\n"
     ]
    }
   ],
   "source": [
    "print(2021-int(input(\"Enter YOB:\")))"
   ]
  },
  {
   "cell_type": "markdown",
   "metadata": {},
   "source": [
    "#### Calculate Length of String "
   ]
  },
  {
   "cell_type": "code",
   "execution_count": 1,
   "metadata": {},
   "outputs": [
    {
     "name": "stdout",
     "output_type": "stream",
     "text": [
      "Enter a String: saad Fareed\n",
      "11\n"
     ]
    }
   ],
   "source": [
    "print(len(input(\"Enter a String: \")))"
   ]
  },
  {
   "cell_type": "markdown",
   "metadata": {},
   "source": [
    "#### Variables"
   ]
  },
  {
   "cell_type": "code",
   "execution_count": 26,
   "metadata": {},
   "outputs": [
    {
     "name": "stdout",
     "output_type": "stream",
     "text": [
      "5\n",
      "saad\n"
     ]
    }
   ],
   "source": [
    "num=5\n",
    "print(num)\n",
    "name='saad' #no need to declare what type of data is it\n",
    "print(name)"
   ]
  },
  {
   "cell_type": "markdown",
   "metadata": {},
   "source": [
    "### Project of the day: write a program for person details.\n",
    "#### sample output:\n",
    "##### (Yourname) is my name \n",
    "##### I am (Yourage) years of age\n",
    "##### having hobby of doing (Hobbies)"
   ]
  },
  {
   "cell_type": "markdown",
   "metadata": {},
   "source": [
    "#### Solution"
   ]
  },
  {
   "cell_type": "code",
   "execution_count": null,
   "metadata": {},
   "outputs": [],
   "source": [
    "name=input(\"Enter Your name:\\n\")\n",
    "Age=int(input(\"Enter Your Age:\\n\"))\n",
    "Hobbies=input(\"Enter Your Hobbies:\\n\")\n",
    "print(name+\" is my name\\n\" \"I am\" +str(Age), \" years of age\\n\"+\"having hobby of doing \"+ Hobbies+\"\\n\")"
   ]
  },
  {
   "cell_type": "markdown",
   "metadata": {},
   "source": [
    "# DAY 2"
   ]
  },
  {
   "cell_type": "markdown",
   "metadata": {},
   "source": [
    "### Topics:\n",
    "1:Data Types \n",
    "2:Numbers\n",
    "3:Operations\n",
    "4:Types conversion\n",
    "5:f-strings"
   ]
  },
  {
   "cell_type": "code",
   "execution_count": 25,
   "metadata": {},
   "outputs": [
    {
     "name": "stdout",
     "output_type": "stream",
     "text": [
      "<class 'str'>\n"
     ]
    }
   ],
   "source": [
    "print (type(\"hello \"+\"world\"))\n"
   ]
  },
  {
   "cell_type": "code",
   "execution_count": 30,
   "metadata": {},
   "outputs": [
    {
     "name": "stdout",
     "output_type": "stream",
     "text": [
      "<class 'int'>\n",
      "<class 'str'>\n"
     ]
    }
   ],
   "source": [
    "print (type(123+234))\n",
    "print (type(\"123\"+\"234\"))"
   ]
  },
  {
   "cell_type": "code",
   "execution_count": 31,
   "metadata": {},
   "outputs": [
    {
     "name": "stdout",
     "output_type": "stream",
     "text": [
      "<class 'float'>\n",
      "3.139\n"
     ]
    }
   ],
   "source": [
    "#Float\n",
    "print(type(3.1415))\n",
    "print(3.1390)"
   ]
  },
  {
   "cell_type": "code",
   "execution_count": 4,
   "metadata": {},
   "outputs": [
    {
     "name": "stdout",
     "output_type": "stream",
     "text": [
      "<class 'float'>\n"
     ]
    }
   ],
   "source": [
    "print(type(3.123))"
   ]
  },
  {
   "cell_type": "code",
   "execution_count": 5,
   "metadata": {},
   "outputs": [
    {
     "name": "stdout",
     "output_type": "stream",
     "text": [
      "<class 'bool'>\n"
     ]
    }
   ],
   "source": [
    "print(type(True))"
   ]
  },
  {
   "cell_type": "code",
   "execution_count": 36,
   "metadata": {},
   "outputs": [],
   "source": [
    "type Errors \n",
    "print(\"saad your is age\" ,21, \"is it?\")\n",
    "print(\"saad your age is \"+str(21)+\" is it?\")"
   ]
  },
  {
   "cell_type": "code",
   "execution_count": null,
   "metadata": {},
   "outputs": [],
   "source": [
    "#shortcut key for comments\n",
    "cont+/"
   ]
  },
  {
   "cell_type": "code",
   "execution_count": null,
   "metadata": {},
   "outputs": [],
   "source": [
    "#Priority\n",
    "#PEMDAS\n",
    "#parentheses \n",
    "#Exponents\n",
    "#Multi\n",
    "#Div\n",
    "#Add\n",
    "#sub\n",
    "\n",
    "#.......................\n",
    "\n",
    "#() \n",
    "#** \n",
    "#*\n",
    "#/ \n",
    "#+\n",
    "#-\n"
   ]
  },
  {
   "cell_type": "code",
   "execution_count": 38,
   "metadata": {},
   "outputs": [
    {
     "name": "stdout",
     "output_type": "stream",
     "text": [
      "7\n"
     ]
    }
   ],
   "source": [
    "print(3*3+int( 3/3)-3) #9+1-3 #7\n",
    "# Output 7"
   ]
  },
  {
   "cell_type": "code",
   "execution_count": 48,
   "metadata": {},
   "outputs": [
    {
     "name": "stdout",
     "output_type": "stream",
     "text": [
      "2.7\n"
     ]
    }
   ],
   "source": [
    "#print(round(5/2))\n",
    "#roundoff\n",
    "print((round(8/3,1)))"
   ]
  },
  {
   "cell_type": "code",
   "execution_count": 49,
   "metadata": {},
   "outputs": [
    {
     "name": "stdout",
     "output_type": "stream",
     "text": [
      "0\n",
      "1\n",
      "2\n"
     ]
    }
   ],
   "source": [
    "score=0\n",
    "print(score)\n",
    "score=score+1\n",
    "print(score)\n",
    "score+=1\n",
    "print(score)"
   ]
  },
  {
   "cell_type": "code",
   "execution_count": 1,
   "metadata": {},
   "outputs": [
    {
     "name": "stdout",
     "output_type": "stream",
     "text": [
      "Your score is 10, with height 1.8, HM is done or notTrue \n"
     ]
    }
   ],
   "source": [
    "score=10\n",
    "height=1.8\n",
    "HM=True\n",
    "#f-string\n",
    "#string formatting mechanism\n",
    "# print(\"Your score is\"+ score+ \"with height\"+ height+ \"HM is done or not\"+ HM \")\n",
    "print(f\"Your score is {score}, with height {height}, HM is done or not{HM} \")"
   ]
  },
  {
   "cell_type": "markdown",
   "metadata": {},
   "source": [
    "## Project: Make a Calculator That takes input from users and apply arthematic operation"
   ]
  },
  {
   "cell_type": "code",
   "execution_count": null,
   "metadata": {},
   "outputs": [],
   "source": []
  },
  {
   "cell_type": "markdown",
   "metadata": {},
   "source": [
    "# DAY 3"
   ]
  },
  {
   "cell_type": "markdown",
   "metadata": {},
   "source": [
    "### Topics:\n",
    "1:Conditional Statements\n",
    "2:logical operators\n",
    "3:code block\n",
    "4:scope"
   ]
  },
  {
   "cell_type": "code",
   "execution_count": 21,
   "metadata": {},
   "outputs": [
    {
     "name": "stdout",
     "output_type": "stream",
     "text": [
      "Enter Your marks: 59\n",
      "Asslam-o-Alaikum\n",
      "ok\n",
      "You Pass the Exam:\n"
     ]
    }
   ],
   "source": [
    "# if-else Statements\n",
    "marks=int(input(\"Enter Your marks: \"))\n",
    "\n",
    "if(marks>50):\n",
    "    print(\"Asslam-o-Alaikum\")\n",
    "    print(\"ok\")\n",
    "    print(\"You Pass the Exam:\")\n",
    "else:\n",
    "    print(\"Try Again:\")"
   ]
  },
  {
   "cell_type": "markdown",
   "metadata": {},
   "source": [
    "### Task of the day"
   ]
  },
  {
   "cell_type": "code",
   "execution_count": 6,
   "metadata": {},
   "outputs": [
    {
     "name": "stdout",
     "output_type": "stream",
     "text": [
      "Enter a Number: 23\n",
      "Number is odd\n"
     ]
    }
   ],
   "source": [
    "#Take an input from user in integer value and predict number is odd or even\n",
    "number=int(input(\"Enter a Number: \"))\n",
    "if(number%2==0):\n",
    "    print(\"Number is even\")\n",
    "else:\n",
    "    print(\"Number is odd\")"
   ]
  },
  {
   "cell_type": "code",
   "execution_count": 2,
   "metadata": {},
   "outputs": [
    {
     "name": "stdout",
     "output_type": "stream",
     "text": [
      "Enter a Number: 56\n",
      "Number is positive\n"
     ]
    }
   ],
   "source": [
    "# concept of elif\n",
    "\n",
    "number=int(input(\"Enter a Number: \"))\n",
    "if number>0:\n",
    "    print(\"Number is positive\")\n",
    "elif(number<0):\n",
    "    print(\"Number is negative\")\n",
    "else:\n",
    "    print(\"Number is 0 and it's neither positive nor negative, \")"
   ]
  },
  {
   "cell_type": "code",
   "execution_count": 23,
   "metadata": {},
   "outputs": [
    {
     "name": "stdout",
     "output_type": "stream",
     "text": [
      "Enter a Number: 23\n",
      "number is positive\n",
      "Number is odd\n"
     ]
    }
   ],
   "source": [
    "#Nested if condition\n",
    "number=int(input(\"Enter a Number: \"))\n",
    "if(number>0):\n",
    "    print(\"number is positive\")\n",
    "    if(number%2==0):\n",
    "        print(\"Number is even\")\n",
    "    else:\n",
    "        print(\"Number is odd\")\n",
    "elif(number<0):\n",
    "    print(\"number is negative\")\n",
    "    if(number%2==0):\n",
    "        print(\"Number is even\")\n",
    "    else:\n",
    "        print(\"Number is odd\")\n",
    "else:\n",
    "    print(\"Number is 0 and it's neither positive nor negative, \")"
   ]
  },
  {
   "cell_type": "code",
   "execution_count": 24,
   "metadata": {},
   "outputs": [
    {
     "name": "stdout",
     "output_type": "stream",
     "text": [
      "Enter a Number: 34\n",
      "number is positive\n",
      "Number is even\n"
     ]
    }
   ],
   "source": [
    "#Nested if condition\n",
    "#problem of intentation \n",
    "number=int(input(\"Enter a Number: \"))\n",
    "if(number>0):\n",
    "    print(\"number is positive\")\n",
    "    if(number%2==0):\n",
    "        print(\"Number is even\")\n",
    "    else:\n",
    "        print(\"Number is odd\")\n",
    "        \n",
    "elif(number<0):\n",
    "    print(\"number is positive\")\n",
    "    if(number%2==0):\n",
    "        print(\"Number is even\")\n",
    "    else:\n",
    "        print(\"Number is odd\")\n",
    "else:\n",
    "    print(\"Number is 0 and it's neither positive nor negative, \")\n"
   ]
  },
  {
   "cell_type": "code",
   "execution_count": 15,
   "metadata": {},
   "outputs": [
    {
     "name": "stdout",
     "output_type": "stream",
     "text": [
      "Enter a Number: 3\n",
      "number is positive\n",
      "Number is odd\n"
     ]
    }
   ],
   "source": [
    "# logical operators\n",
    "#Nested if condition\n",
    "#problem of intentation \n",
    "# and not or\n",
    "# and 2no conditipons ka true hona zarori hay\n",
    "# \n",
    "number=int(input(\"Enter a Number: \"))\n",
    "if(number>0 and number%2==0): # \n",
    "    print(\"number is positive\")\n",
    "    print(\"Number is even\")\n",
    "elif(number>0 or number%2!=0):\n",
    "    print(\"number is positive\")\n",
    "    print(\"Number is odd\")\n",
    "else:\n",
    "    print(\"number is 0\")"
   ]
  },
  {
   "cell_type": "markdown",
   "metadata": {},
   "source": [
    "## Project of the Day 3"
   ]
  },
  {
   "cell_type": "markdown",
   "metadata": {},
   "source": [
    "### Now make a calculator by using if-else condition you have to Take 2 Numbers from Users and Apply basic Arthematic Operation."
   ]
  },
  {
   "cell_type": "markdown",
   "metadata": {},
   "source": [
    "# DAY4"
   ]
  },
  {
   "cell_type": "code",
   "execution_count": 1,
   "metadata": {},
   "outputs": [
    {
     "name": "stdout",
     "output_type": "stream",
     "text": [
      "['saad', 21, True]\n"
     ]
    }
   ],
   "source": [
    "#LIST is like array\n",
    "MY_Bio=[\"saad\",21,True]\n",
    "\n",
    "print(MY_Bio)"
   ]
  },
  {
   "cell_type": "markdown",
   "metadata": {},
   "source": [
    "#### offset -> Address"
   ]
  },
  {
   "cell_type": "code",
   "execution_count": 20,
   "metadata": {},
   "outputs": [
    {
     "name": "stdout",
     "output_type": "stream",
     "text": [
      "21\n"
     ]
    }
   ],
   "source": [
    "#LIST is like array\n",
    "MY_Bio=[\"saad\",21]\n",
    "\n",
    "print(MY_Bio[1])"
   ]
  },
  {
   "cell_type": "markdown",
   "metadata": {},
   "source": [
    "### Rondamization"
   ]
  },
  {
   "cell_type": "code",
   "execution_count": 21,
   "metadata": {},
   "outputs": [
    {
     "name": "stdout",
     "output_type": "stream",
     "text": [
      "Tail\n"
     ]
    }
   ],
   "source": [
    "import random\n",
    "my_choice=[\"Head\",\"Tail\"]\n",
    "result=random.choice(my_choice)\n",
    "print(result)"
   ]
  },
  {
   "cell_type": "code",
   "execution_count": 22,
   "metadata": {},
   "outputs": [
    {
     "name": "stdout",
     "output_type": "stream",
     "text": [
      "3\n"
     ]
    }
   ],
   "source": [
    "import random\n",
    "random_integer=random.randint(1,10)\n",
    "print(random_integer)"
   ]
  },
  {
   "cell_type": "code",
   "execution_count": 23,
   "metadata": {},
   "outputs": [
    {
     "name": "stdout",
     "output_type": "stream",
     "text": [
      "4\n"
     ]
    }
   ],
   "source": [
    "import random as sadi\n",
    "random_integer=sadi.randint(1,100)\n",
    "print(random_integer)"
   ]
  },
  {
   "cell_type": "markdown",
   "metadata": {},
   "source": [
    "#### Module Parts of Projects(Example: Car Manufacturing)"
   ]
  },
  {
   "cell_type": "code",
   "execution_count": 14,
   "metadata": {},
   "outputs": [],
   "source": [
    "# Check Pycharm"
   ]
  },
  {
   "cell_type": "code",
   "execution_count": 24,
   "metadata": {},
   "outputs": [
    {
     "name": "stdout",
     "output_type": "stream",
     "text": [
      "0.9737167223728831\n"
     ]
    }
   ],
   "source": [
    "#Random Float\n",
    "import random as sadi\n",
    "random_float=sadi.random()\n",
    "# 0.00000000000 -- 0.99999999999999\n",
    "print(random_float)"
   ]
  },
  {
   "cell_type": "markdown",
   "metadata": {},
   "source": [
    "### Task of the Day:"
   ]
  },
  {
   "cell_type": "code",
   "execution_count": 39,
   "metadata": {},
   "outputs": [
    {
     "name": "stdout",
     "output_type": "stream",
     "text": [
      "Tail\n",
      "Value is:  2\n"
     ]
    }
   ],
   "source": [
    "import random as sadi\n",
    "random_integer=sadi.randint(1,2)\n",
    "if random_integer==1:\n",
    "    print(\"HEADS\")\n",
    "else:\n",
    "    print(\"Tail\")\n",
    "    \n",
    "print(\"Value is: \",random_integer)"
   ]
  },
  {
   "cell_type": "markdown",
   "metadata": {},
   "source": [
    "#### Split "
   ]
  },
  {
   "cell_type": "code",
   "execution_count": 27,
   "metadata": {},
   "outputs": [
    {
     "name": "stdout",
     "output_type": "stream",
     "text": [
      "['Muhammad Saad ', 'Fareed is my name. and', ' my age is 21. ']\n"
     ]
    }
   ],
   "source": [
    "sentence=\"Muhammad Saad ?Fareed is my name. and? my age is 21. \"\n",
    "words=sentence.split(\"?\")\n",
    "print(words)"
   ]
  },
  {
   "cell_type": "markdown",
   "metadata": {},
   "source": [
    "## Project of the Day:"
   ]
  },
  {
   "cell_type": "markdown",
   "metadata": {},
   "source": [
    "### MAKE ROCK PAPER SCISSORS GAME"
   ]
  },
  {
   "cell_type": "code",
   "execution_count": null,
   "metadata": {},
   "outputs": [],
   "source": [
    "import random\n",
    "\n",
    "rock = '''\n",
    "    _______\n",
    "---'   ____)\n",
    "      (_____)\n",
    "      (_____)\n",
    "      (____)\n",
    "---.__(___)\n",
    "'''\n",
    "\n",
    "paper = '''\n",
    "    _______\n",
    "---'   ____)____\n",
    "          ______)\n",
    "          _______)\n",
    "         _______)\n",
    "---.__________)\n",
    "'''\n",
    "\n",
    "scissors = '''\n",
    "    _______\n",
    "---'   ____)____\n",
    "          ______)\n",
    "       __________)\n",
    "      (____)\n",
    "---.__(___)\n",
    "'''\n",
    "game_images = [rock, paper, scissors]\n",
    "\n",
    "user_choice = int(input(\"What do you choose? Type 0 for Rock, 1 for Paper or 2 for Scissors.\\n\"))\n",
    "print(game_images[user_choice])\n",
    "\n",
    "computer_choice = random.randint(0, 2)\n",
    "print(\"Computer chose:\")\n",
    "print(game_images[computer_choice])\n",
    "\n",
    "if user_choice >= 3 or user_choice < 0: \n",
    "  print(\"You typed an invalid number, you lose!\") \n",
    "elif user_choice == 0 and computer_choice == 2:\n",
    "  print(\"You win!\")\n",
    "elif computer_choice == 0 and user_choice == 2:\n",
    "  print(\"You lose\")\n",
    "elif computer_choice > user_choice:\n",
    "  print(\"You lose\")\n",
    "elif user_choice > computer_choice:\n",
    "  print(\"You win!\")\n",
    "elif computer_choice == user_choice:\n",
    "  print(\"It's a draw\")\n"
   ]
  },
  {
   "cell_type": "markdown",
   "metadata": {},
   "source": [
    "# DAY 5"
   ]
  },
  {
   "cell_type": "markdown",
   "metadata": {},
   "source": [
    "### Topics:\n",
    "1:NESTED LIST\n",
    "2:For loop\n",
    "3:for loops and the range() function"
   ]
  },
  {
   "cell_type": "code",
   "execution_count": 25,
   "metadata": {},
   "outputs": [
    {
     "name": "stdout",
     "output_type": "stream",
     "text": [
      "[['saad', 'fareed', 'ahmad'], ['2018CS632', '2018FS678', '2091CH789'], [[80, 70, 67], [100, 91, 78], [76, 99, 98]]]\n"
     ]
    }
   ],
   "source": [
    "names=[\"saad\",\"fareed\",\"ahmad\"]\n",
    "saad=[80,70,67]\n",
    "fareed=[100,91,78]\n",
    "ahmad=[76,99,98]\n",
    "grades=[saad,fareed,ahmad]\n",
    "regnum=[\"2018CS632\",\"2018FS678\",\"2091CH789\"]\n",
    "result=[names,regnum,grades]\n",
    "print(result)"
   ]
  },
  {
   "cell_type": "markdown",
   "metadata": {},
   "source": [
    "### Task of the day"
   ]
  },
  {
   "cell_type": "code",
   "execution_count": 26,
   "metadata": {},
   "outputs": [
    {
     "name": "stdout",
     "output_type": "stream",
     "text": [
      "[[(0, 0), (0, 1), (0, 2)], [(1, 0), (1, 1), (1, 2)], [(2, 0), (2, 1), (2, 2)]]\n"
     ]
    }
   ],
   "source": [
    "# make 3 by 3 Matrix\n",
    "rows=[0,1,2]\n",
    "col=[0,1,2]\n",
    "matrix=[[(rows[0],col[0]),(rows[0],col[1]),(rows[0],col[2])],[(rows[1],col[0]),(rows[1],col[1]),(rows[1],col[2])],[(rows[2],col[0]),(rows[2],col[1]),(rows[2],col[2])]]\n",
    "print(matrix)"
   ]
  },
  {
   "cell_type": "markdown",
   "metadata": {},
   "source": [
    "### For loop"
   ]
  },
  {
   "cell_type": "code",
   "execution_count": 4,
   "metadata": {},
   "outputs": [
    {
     "name": "stdout",
     "output_type": "stream",
     "text": [
      "0\n",
      "1\n",
      "2\n",
      "3\n",
      "4\n",
      "5\n",
      "6\n",
      "7\n",
      "8\n",
      "9\n"
     ]
    }
   ],
   "source": [
    "#print number from 0 to 10\n",
    "for i in range(0,10): #i start 0 ->1..............\n",
    "    print(i)"
   ]
  },
  {
   "cell_type": "code",
   "execution_count": 27,
   "metadata": {},
   "outputs": [
    {
     "name": "stdout",
     "output_type": "stream",
     "text": [
      "0\n",
      "1\n",
      "2\n",
      "3\n",
      "4\n",
      "5\n",
      "6\n",
      "7\n",
      "8\n",
      "saaad\n"
     ]
    }
   ],
   "source": [
    "#print number from 0 to 10\n",
    "list_num=[0,1,2,3,4,5,6,7,8,\"saaad\"]\n",
    "for i in list_num:\n",
    "    print(i)"
   ]
  },
  {
   "cell_type": "markdown",
   "metadata": {},
   "source": [
    "### task of the day"
   ]
  },
  {
   "cell_type": "code",
   "execution_count": 30,
   "metadata": {},
   "outputs": [
    {
     "name": "stdout",
     "output_type": "stream",
     "text": [
      "4\n",
      "20\n"
     ]
    }
   ],
   "source": [
    "# Calculate Max marks in list:\n",
    "result=0\n",
    "marks=[19,18,20,15]\n",
    "mark=len(marks)\n",
    "print(mark)\n",
    "for i in range(0,len(marks)-1):\n",
    "    if(marks[i]>marks[i+1]):\n",
    "        #print(i)\n",
    "        result=marks[i]#19\n",
    "    else:\n",
    "        #print(i)\n",
    "        result=marks[i+1]\n",
    "print(result)"
   ]
  },
  {
   "cell_type": "markdown",
   "metadata": {},
   "source": [
    "### task 2 of the day"
   ]
  },
  {
   "cell_type": "code",
   "execution_count": 12,
   "metadata": {},
   "outputs": [
    {
     "name": "stdout",
     "output_type": "stream",
     "text": [
      "2550\n"
     ]
    }
   ],
   "source": [
    "# sum of even numbers from 0 to 100\n",
    "sum=0\n",
    "for i in range(0,101,2):\n",
    "    sum+=i\n",
    "print(sum)"
   ]
  },
  {
   "cell_type": "markdown",
   "metadata": {},
   "source": [
    "### task 3 of the day"
   ]
  },
  {
   "cell_type": "markdown",
   "metadata": {},
   "source": [
    "##### The FizzBuzz Job Interview Question\n",
    "if 3 is factor of number then print Fizz\n",
    "if 5 is factor of number then print Buzz\n",
    "if 3 and 5 both are factors of number then print FizzBuzz\n",
    "otherwise print number"
   ]
  },
  {
   "cell_type": "code",
   "execution_count": 12,
   "metadata": {},
   "outputs": [
    {
     "name": "stdout",
     "output_type": "stream",
     "text": [
      "1\n",
      "2\n",
      "Fizz\n",
      "4\n",
      "Buzz\n",
      "Fizz\n",
      "7\n",
      "8\n",
      "Fizz\n",
      "Buzz\n",
      "11\n",
      "Fizz\n",
      "13\n",
      "14\n",
      "FizzBuzz\n",
      "16\n",
      "17\n",
      "Fizz\n",
      "19\n",
      "Buzz\n",
      "Fizz\n",
      "22\n",
      "23\n",
      "Fizz\n",
      "Buzz\n",
      "26\n",
      "Fizz\n",
      "28\n",
      "29\n",
      "FizzBuzz\n",
      "31\n",
      "32\n",
      "Fizz\n",
      "34\n",
      "Buzz\n",
      "Fizz\n",
      "37\n",
      "38\n",
      "Fizz\n",
      "Buzz\n",
      "41\n",
      "Fizz\n",
      "43\n",
      "44\n",
      "FizzBuzz\n",
      "46\n",
      "47\n",
      "Fizz\n",
      "49\n",
      "Buzz\n",
      "Fizz\n",
      "52\n",
      "53\n",
      "Fizz\n",
      "Buzz\n",
      "56\n",
      "Fizz\n",
      "58\n",
      "59\n",
      "FizzBuzz\n",
      "61\n",
      "62\n",
      "Fizz\n",
      "64\n",
      "Buzz\n",
      "Fizz\n",
      "67\n",
      "68\n",
      "Fizz\n",
      "Buzz\n",
      "71\n",
      "Fizz\n",
      "73\n",
      "74\n",
      "FizzBuzz\n",
      "76\n",
      "77\n",
      "Fizz\n",
      "79\n",
      "Buzz\n",
      "Fizz\n",
      "82\n",
      "83\n",
      "Fizz\n",
      "Buzz\n",
      "86\n",
      "Fizz\n",
      "88\n",
      "89\n",
      "FizzBuzz\n",
      "91\n",
      "92\n",
      "Fizz\n",
      "94\n",
      "Buzz\n",
      "Fizz\n",
      "97\n",
      "98\n",
      "Fizz\n",
      "Buzz\n"
     ]
    }
   ],
   "source": [
    "number=0\n",
    "for values in range (1,101):\n",
    "    number+=1 \n",
    "    if number%3==0 and number%5!=0:\n",
    "        print(\"Fizz\")\n",
    "    elif number%5==0 and number%3!=0:\n",
    "        print(\"Buzz\")\n",
    "    elif number%3==0 and number%5==0:\n",
    "        print(\"FizzBuzz\")\n",
    "    else: print(number)"
   ]
  },
  {
   "cell_type": "markdown",
   "metadata": {},
   "source": [
    "## Project of the Day"
   ]
  },
  {
   "cell_type": "markdown",
   "metadata": {},
   "source": [
    "### Random password Generator"
   ]
  },
  {
   "cell_type": "markdown",
   "metadata": {},
   "source": [
    "Description:\n",
    "   password must include number from 0-9\n",
    "   letters from a-z\n",
    "   specialcharacter like @,#,$"
   ]
  },
  {
   "cell_type": "code",
   "execution_count": 6,
   "metadata": {},
   "outputs": [
    {
     "name": "stdout",
     "output_type": "stream",
     "text": [
      "Welcome to the SadiPassword Generator!\n",
      "eR&69ll$73\n"
     ]
    }
   ],
   "source": [
    "import random\n",
    "letters = ['a', 'b', 'c', 'd', 'e', 'f', 'g', 'h', 'i', 'j', 'k', 'l', 'm', 'n', 'o', 'p', 'q', 'r', 's', 't', 'u', 'v', 'w', 'x', 'y', 'z', 'A', 'B', 'C', 'D', 'E', 'F', 'G', 'H', 'I', 'J', 'K', 'L', 'M', 'N', 'O', 'P', 'Q', 'R', 'S', 'T', 'U', 'V', 'W', 'X', 'Y', 'Z']\n",
    "numbers = ['0', '1', '2', '3', '4', '5', '6', '7', '8', '9']\n",
    "symbols = ['!', '#', '$', '%', '&', '(', ')', '*', '+']\n",
    "\n",
    "print(\"Welcome to the SadiPassword Generator!\")\n",
    "\n",
    "\n",
    "password = \"\"\n",
    "for i in range(1,3):\n",
    "    for char in range(1,3):\n",
    "        password += random.choice(letters)\n",
    "\n",
    "    for char in range(1,2):\n",
    "        password += random.choice(symbols)\n",
    "\n",
    "    for char in range(1,3):\n",
    "        password += random.choice(numbers)\n",
    "\n",
    "print(password)\n"
   ]
  },
  {
   "cell_type": "markdown",
   "metadata": {},
   "source": [
    "# Project of the Week"
   ]
  },
  {
   "cell_type": "code",
   "execution_count": 11,
   "metadata": {},
   "outputs": [
    {
     "name": "stdout",
     "output_type": "stream",
     "text": [
      "Welcome to the SadiPassword Generator!\n",
      "Your password is: 86#rjS5+y9V\n"
     ]
    }
   ],
   "source": [
    "import random\n",
    "letters = ['a', 'b', 'c', 'd', 'e', 'f', 'g', 'h', 'i', 'j', 'k', 'l', 'm', 'n', 'o', 'p', 'q', 'r', 's', 't', 'u', 'v', 'w', 'x', 'y', 'z', 'A', 'B', 'C', 'D', 'E', 'F', 'G', 'H', 'I', 'J', 'K', 'L', 'M', 'N', 'O', 'P', 'Q', 'R', 'S', 'T', 'U', 'V', 'W', 'X', 'Y', 'Z']\n",
    "numbers = ['0', '1', '2', '3', '4', '5', '6', '7', '8', '9']\n",
    "symbols = ['!', '#', '$', '%', '&', '(', ')', '*', '+']\n",
    "\n",
    "print(\"Welcome to the SadiPassword Generator!\")\n",
    "nr_letters = random.randint(1,5) \n",
    "nr_symbols = random.randint(1,3) \n",
    "nr_numbers = random.randint(1,4) \n",
    "\n",
    "password_list = []\n",
    "\n",
    "for char in range(1, nr_letters + 1):\n",
    "  password_list.append(random.choice(letters))\n",
    "\n",
    "for char in range(1, nr_symbols + 1):\n",
    "  password_list += random.choice(symbols)\n",
    "\n",
    "for char in range(1, nr_numbers + 1):\n",
    "  password_list += random.choice(numbers)\n",
    "\n",
    "#print(password_list)\n",
    "\n",
    "#print(password_list)\n",
    "random.shuffle(password_list)\n",
    "password = \"\"\n",
    "for char in password_list:\n",
    "  password += char\n",
    "\n",
    "print(f\"Your password is: {password}\")"
   ]
  },
  {
   "cell_type": "code",
   "execution_count": null,
   "metadata": {},
   "outputs": [],
   "source": []
  }
 ],
 "metadata": {
  "kernelspec": {
   "display_name": "Python 3",
   "language": "python",
   "name": "python3"
  },
  "language_info": {
   "codemirror_mode": {
    "name": "ipython",
    "version": 3
   },
   "file_extension": ".py",
   "mimetype": "text/x-python",
   "name": "python",
   "nbconvert_exporter": "python",
   "pygments_lexer": "ipython3",
   "version": "3.8.5"
  }
 },
 "nbformat": 4,
 "nbformat_minor": 4
}
